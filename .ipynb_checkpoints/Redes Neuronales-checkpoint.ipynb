{
 "cells": [
  {
   "cell_type": "markdown",
   "metadata": {},
   "source": [
    "# Laboratorio Redes Neuronales\n",
    "\n",
    "\n",
    "##### Antonio Reyes #17273"
   ]
  },
  {
   "cell_type": "markdown",
   "metadata": {},
   "source": [
    "Proporcione un modelo de redes neuronales del tipo feed\n",
    "forward fully connected que prediga el tipo de prenda de vestir es, esto usando todas las\n",
    "features que considere necesarias"
   ]
  },
  {
   "cell_type": "code",
   "execution_count": 1,
   "metadata": {},
   "outputs": [],
   "source": [
    "# Importando paquetes\n",
    "import numpy as np\n",
    "import pandas as pd\n",
    "from functools import reduce\n",
    "from scipy import optimize as op\n",
    "import pickle\n",
    "import math"
   ]
  },
  {
   "cell_type": "markdown",
   "metadata": {},
   "source": [
    "- numpy se utiliza para el manejo de matrices\n",
    "- pandas se utiliza para la lectura de la base de datos (que se encuentra en un docuemtno .csv\n",
    "- reduce se utiliza en la función flatten_list_of_arrays para aplanar la matriz con valores theta\n",
    "- pickle es una librería que se encarga de encriptar un documento texto, se utiliza luego de realizar las iteraciones de back propagation con op (importado de scipy)\n"
   ]
  },
  {
   "cell_type": "code",
   "execution_count": 2,
   "metadata": {},
   "outputs": [],
   "source": [
    "#obtener datos de csv\n",
    "dataset = pd.read_csv('fashion-mnist_train.csv')\n",
    "X = dataset.iloc[:60000, 1:].values\n",
    "np.asarray(X)\n",
    "\n",
    "# tamaño para el dato inicial de las 3 capas de la red neuronal\n",
    "m,n = X.shape"
   ]
  },
  {
   "cell_type": "code",
   "execution_count": 3,
   "metadata": {},
   "outputs": [],
   "source": [
    "# valores esperados\n",
    "Y = np.asarray(dataset.iloc[:60000, 0])"
   ]
  },
  {
   "cell_type": "markdown",
   "metadata": {},
   "source": [
    "#### X son pixel 1 - 784\n",
    "#### Y son los valores esperados"
   ]
  },
  {
   "cell_type": "code",
   "execution_count": 4,
   "metadata": {},
   "outputs": [
    {
     "data": {
      "text/plain": [
       "array([2, 9, 6, ..., 8, 8, 7], dtype=int64)"
      ]
     },
     "execution_count": 4,
     "metadata": {},
     "output_type": "execute_result"
    }
   ],
   "source": [
    "Y"
   ]
  },
  {
   "cell_type": "code",
   "execution_count": 5,
   "metadata": {},
   "outputs": [],
   "source": [
    "# reshape y conversion a int\n",
    "Y = Y.reshape(m,1)\n",
    "\n",
    "Y = (Y == np.array(range(10))).astype(int)"
   ]
  },
  {
   "cell_type": "code",
   "execution_count": 6,
   "metadata": {},
   "outputs": [
    {
     "data": {
      "text/plain": [
       "array([[0, 0, 1, ..., 0, 0, 0],\n",
       "       [0, 0, 0, ..., 0, 0, 1],\n",
       "       [0, 0, 0, ..., 0, 0, 0],\n",
       "       ...,\n",
       "       [0, 0, 0, ..., 0, 1, 0],\n",
       "       [0, 0, 0, ..., 0, 1, 0],\n",
       "       [0, 0, 0, ..., 1, 0, 0]])"
      ]
     },
     "execution_count": 6,
     "metadata": {},
     "output_type": "execute_result"
    }
   ],
   "source": [
    "Y"
   ]
  },
  {
   "cell_type": "markdown",
   "metadata": {},
   "source": [
    "#### Por la capacidad de la computadora, la capa por la que pasarán los datos de entrada tendrán 80 neuronas, por lo tanto lo valores de la matriz theta1 será (80,785)\n",
    "\n",
    "#### La tercera capa será (10,81) y en ese orden para no utilizar la transpuesta"
   ]
  },
  {
   "cell_type": "code",
   "execution_count": 7,
   "metadata": {},
   "outputs": [
    {
     "data": {
      "text/plain": [
       "array([[7.29059943e-04, 9.96002212e-04, 4.14679019e-04, ...,\n",
       "        6.29368536e-04, 3.34362812e-04, 9.73995426e-04],\n",
       "       [3.38367730e-04, 4.68810874e-04, 3.33299048e-04, ...,\n",
       "        7.48274993e-04, 7.18590241e-04, 2.18231984e-04],\n",
       "       [2.07336738e-04, 2.30224095e-04, 3.86932338e-04, ...,\n",
       "        2.43285783e-04, 1.71182824e-04, 3.34129839e-04],\n",
       "       ...,\n",
       "       [6.48918992e-04, 6.78701094e-04, 1.04703594e-04, ...,\n",
       "        2.91033822e-04, 5.11035006e-04, 5.52074958e-04],\n",
       "       [9.96665839e-04, 8.37066265e-04, 8.47018370e-04, ...,\n",
       "        1.45748869e-04, 1.57039107e-05, 5.98187729e-04],\n",
       "       [6.50114823e-04, 3.02486610e-04, 6.72931007e-04, ...,\n",
       "        4.66084832e-04, 1.77707655e-04, 1.30603135e-04]])"
      ]
     },
     "execution_count": 7,
     "metadata": {},
     "output_type": "execute_result"
    }
   ],
   "source": [
    "# random thetas\n",
    "# theta1\n",
    "theta1 = np.random.rand(80,785)\n",
    "theta1 = theta1 / 1000\n",
    "theta1"
   ]
  },
  {
   "cell_type": "code",
   "execution_count": 8,
   "metadata": {
    "scrolled": true
   },
   "outputs": [
    {
     "data": {
      "text/plain": [
       "array([[3.05202293e-04, 1.98042601e-04, 4.28201768e-04, 1.53077061e-04,\n",
       "        7.27550938e-04, 7.71363906e-04, 7.42586404e-04, 3.13258620e-05,\n",
       "        3.68556639e-04, 5.92132028e-04, 2.23400388e-05, 7.58197952e-04,\n",
       "        1.30154191e-04, 2.96744755e-04, 8.14777545e-04, 6.49331038e-05,\n",
       "        2.05595648e-04, 7.71372187e-04, 4.53664182e-04, 4.29583436e-04,\n",
       "        9.79749975e-04, 8.15933721e-04, 1.48866801e-04, 6.51442542e-05,\n",
       "        3.34106530e-04, 5.53335676e-04, 4.37344723e-04, 5.78027694e-04,\n",
       "        2.41606726e-04, 5.41373664e-04, 7.19142145e-04, 4.43954959e-04,\n",
       "        4.50374180e-04, 8.33574843e-04, 2.70805470e-04, 6.22970842e-04,\n",
       "        5.43381416e-04, 6.38901039e-04, 4.08794736e-04, 4.34928682e-04,\n",
       "        2.23148594e-04, 1.66667922e-04, 3.58277909e-04, 3.44549105e-04,\n",
       "        1.90101051e-04, 4.35102385e-04, 5.11138652e-05, 4.96567040e-05,\n",
       "        6.05846218e-04, 8.17169935e-04, 7.87278671e-04, 3.42174907e-04,\n",
       "        2.52016161e-04, 3.85574439e-04, 4.75867499e-04, 7.47608994e-04,\n",
       "        5.37775346e-04, 8.65537242e-04, 4.39183364e-04, 2.50317054e-04,\n",
       "        5.87789522e-04, 8.42748820e-04, 1.40384905e-05, 1.54814821e-04,\n",
       "        4.89041861e-04, 6.24965404e-04, 6.08446894e-04, 5.75267073e-04,\n",
       "        3.73595778e-04, 3.96593234e-04, 5.90906035e-04, 7.04933525e-04,\n",
       "        9.03554879e-04, 2.91039507e-04, 5.24559158e-04, 9.38543453e-04,\n",
       "        9.11760954e-04, 9.21264682e-06, 9.84202178e-04, 2.03320566e-04,\n",
       "        9.17101288e-04],\n",
       "       [6.94694626e-04, 2.42459523e-04, 9.27255494e-05, 2.14953116e-04,\n",
       "        4.39045275e-04, 5.13047297e-04, 1.54429589e-04, 7.29627279e-04,\n",
       "        2.19325297e-04, 8.34157377e-04, 6.81843804e-04, 7.07623752e-04,\n",
       "        7.64468545e-04, 9.52663204e-04, 1.71605751e-04, 6.63623904e-04,\n",
       "        2.35418890e-04, 9.19264247e-04, 4.76161904e-04, 2.18686869e-04,\n",
       "        2.87563464e-05, 3.38422610e-05, 2.63051855e-05, 1.29864436e-04,\n",
       "        5.71710822e-04, 3.92908979e-04, 5.82338708e-04, 4.50391968e-04,\n",
       "        9.96423061e-04, 4.46943374e-04, 7.22982407e-04, 8.82730114e-04,\n",
       "        9.19942615e-04, 5.63039766e-04, 3.69410004e-04, 9.02281881e-04,\n",
       "        3.07982016e-04, 2.86195958e-04, 9.64774190e-04, 1.36299177e-04,\n",
       "        5.54614212e-05, 3.47900054e-05, 9.23785163e-04, 6.58267377e-04,\n",
       "        5.66920881e-04, 2.39786191e-04, 1.91588601e-04, 7.04666440e-04,\n",
       "        8.18012804e-04, 8.84776706e-04, 3.51181514e-04, 2.21970473e-06,\n",
       "        6.64981151e-04, 1.72943677e-04, 6.98583187e-04, 5.86814772e-04,\n",
       "        3.59430761e-04, 3.83724968e-04, 8.32665913e-04, 4.80612966e-04,\n",
       "        2.84248724e-04, 2.43475946e-04, 7.54806631e-04, 9.58834721e-04,\n",
       "        7.78014140e-04, 9.81748922e-04, 5.81809329e-04, 9.73841552e-04,\n",
       "        8.40908655e-04, 6.85457118e-04, 1.13918268e-04, 8.99694494e-04,\n",
       "        8.19714277e-05, 2.29779380e-05, 7.83854154e-04, 3.78699825e-04,\n",
       "        3.05830662e-04, 3.26795272e-04, 4.52425988e-04, 8.25396678e-04,\n",
       "        9.17044459e-05],\n",
       "       [7.88071914e-04, 6.32648498e-04, 9.94315144e-04, 5.28285624e-04,\n",
       "        1.54871773e-04, 6.26783574e-05, 2.41983395e-04, 7.73785900e-05,\n",
       "        3.91699390e-04, 1.09510968e-04, 5.00064173e-04, 9.39748677e-04,\n",
       "        1.29636989e-04, 6.26011063e-04, 4.80806461e-04, 3.88246240e-06,\n",
       "        6.74652957e-04, 1.85948078e-04, 3.79832290e-04, 1.90302778e-04,\n",
       "        7.28075600e-05, 7.98220200e-04, 1.96371194e-04, 5.52672969e-04,\n",
       "        2.04360283e-04, 1.55597024e-04, 6.75469689e-04, 7.84880003e-04,\n",
       "        4.54517921e-04, 3.74792680e-04, 7.72349644e-08, 2.66698960e-04,\n",
       "        9.39026282e-04, 8.42271820e-04, 6.39784130e-04, 9.30947421e-04,\n",
       "        3.58222362e-04, 4.14760295e-04, 7.71189254e-04, 7.59812082e-04,\n",
       "        7.34914225e-04, 1.56199719e-04, 6.35113849e-04, 4.04723710e-04,\n",
       "        3.42039789e-04, 4.99290853e-04, 3.72545356e-04, 6.61652932e-04,\n",
       "        4.01206642e-04, 3.25820193e-04, 7.07455130e-04, 6.73287968e-04,\n",
       "        3.19040430e-04, 8.14654687e-04, 6.75124400e-04, 5.82265497e-04,\n",
       "        5.37213566e-04, 1.58221773e-04, 2.56370429e-04, 5.58898018e-04,\n",
       "        3.96889345e-04, 4.75047052e-04, 6.82214591e-04, 3.84189109e-04,\n",
       "        7.73564852e-04, 5.24164995e-04, 3.35787245e-04, 5.56110771e-04,\n",
       "        6.43032455e-04, 2.85910119e-04, 5.10606891e-04, 9.78550096e-04,\n",
       "        7.98717092e-04, 2.07550096e-04, 4.53763564e-04, 9.24009512e-04,\n",
       "        2.93273953e-04, 8.69740180e-04, 8.61127273e-04, 4.42608006e-04,\n",
       "        6.90686196e-04],\n",
       "       [8.61596786e-04, 6.90168117e-04, 2.57941451e-04, 3.99059952e-04,\n",
       "        4.65726240e-04, 6.71688562e-04, 7.47078693e-04, 9.73578037e-04,\n",
       "        6.70122448e-04, 3.49699943e-04, 7.12514111e-04, 8.50661987e-04,\n",
       "        7.27444839e-05, 9.81012619e-04, 5.12650383e-04, 1.42061015e-05,\n",
       "        5.62103675e-04, 4.56514366e-04, 3.39475814e-04, 5.30694274e-05,\n",
       "        1.05768934e-04, 5.63205156e-04, 9.06189431e-04, 9.07784417e-04,\n",
       "        7.65375810e-04, 1.95604810e-04, 5.78914849e-04, 7.15352746e-04,\n",
       "        4.59474339e-04, 8.37914913e-04, 5.62583388e-04, 7.76321210e-04,\n",
       "        6.76412060e-04, 5.14289770e-04, 3.67917597e-04, 4.14190146e-04,\n",
       "        7.01950797e-04, 9.16933616e-04, 1.49429130e-04, 6.90842357e-04,\n",
       "        3.62148116e-04, 7.02287930e-04, 8.91894900e-04, 6.28736580e-04,\n",
       "        3.18976987e-04, 2.98072257e-04, 9.26399186e-04, 9.23746424e-04,\n",
       "        1.80054859e-04, 3.34906228e-04, 5.30960600e-04, 7.79358348e-04,\n",
       "        5.47131491e-04, 6.35058475e-05, 4.59752310e-04, 7.68669735e-04,\n",
       "        3.87435127e-04, 4.25710983e-04, 6.98994714e-06, 7.80243098e-04,\n",
       "        4.96049389e-04, 9.85177735e-04, 3.10009809e-04, 3.98020773e-04,\n",
       "        2.72473521e-04, 4.70077429e-04, 7.98486611e-04, 2.89811695e-04,\n",
       "        6.33636092e-04, 8.77115977e-04, 1.06027338e-04, 5.58129300e-04,\n",
       "        8.85265334e-04, 1.16519107e-04, 2.38052491e-04, 2.17571615e-04,\n",
       "        6.19119528e-04, 6.11574503e-04, 5.43567490e-04, 7.55941002e-05,\n",
       "        6.82156539e-04],\n",
       "       [7.36615302e-04, 8.36800749e-04, 5.32152008e-04, 1.03100396e-04,\n",
       "        8.22084853e-04, 1.08212500e-04, 8.04498657e-04, 9.68108261e-04,\n",
       "        8.26149187e-04, 1.66506197e-05, 8.65146789e-04, 5.06209282e-04,\n",
       "        6.12249466e-04, 2.58637357e-04, 7.62221517e-05, 3.17914391e-04,\n",
       "        1.12621358e-04, 1.91170559e-04, 6.49371633e-04, 9.80086887e-04,\n",
       "        3.52202916e-05, 6.40312760e-04, 3.63624812e-04, 9.48406570e-04,\n",
       "        9.80309640e-04, 9.71123195e-04, 5.65108470e-04, 3.53496176e-04,\n",
       "        2.28599026e-04, 5.60462144e-04, 4.75139114e-04, 6.00982960e-04,\n",
       "        7.37026190e-04, 9.85211598e-05, 5.60327051e-04, 4.80063124e-05,\n",
       "        6.63194401e-04, 9.46034847e-04, 8.52051234e-04, 4.91959906e-04,\n",
       "        9.60020302e-04, 4.42163919e-04, 7.20460090e-04, 8.41661682e-04,\n",
       "        4.14113819e-04, 8.98126270e-05, 2.55040479e-04, 2.92822549e-04,\n",
       "        4.83129955e-04, 3.39043240e-04, 5.47232852e-04, 9.36043038e-04,\n",
       "        8.93089583e-04, 2.78398463e-04, 1.02028689e-04, 2.17732092e-04,\n",
       "        6.46476322e-04, 9.20828639e-04, 7.20590604e-04, 4.50430819e-04,\n",
       "        3.19573746e-04, 5.90998177e-04, 2.42809697e-04, 2.96923610e-04,\n",
       "        2.93969190e-04, 2.44618359e-04, 8.60944659e-04, 3.76402754e-04,\n",
       "        2.47929393e-04, 5.20162660e-04, 8.64062150e-04, 7.81892171e-04,\n",
       "        2.52356473e-04, 4.09819494e-04, 7.85023799e-04, 5.69522206e-04,\n",
       "        5.12657877e-04, 9.89313198e-04, 1.90872539e-04, 1.68476053e-04,\n",
       "        9.02143832e-04],\n",
       "       [2.93177764e-04, 4.39855724e-04, 1.96053642e-04, 2.12695694e-04,\n",
       "        2.82616995e-05, 9.51566557e-04, 5.41181318e-04, 5.86598058e-04,\n",
       "        9.95589231e-04, 7.45921175e-04, 2.83579716e-06, 6.21685468e-04,\n",
       "        6.38462316e-04, 4.79151287e-04, 9.06283832e-04, 4.83068231e-04,\n",
       "        8.75698556e-04, 7.44035594e-04, 7.51054730e-04, 6.96312190e-04,\n",
       "        1.62021767e-04, 2.39242391e-04, 2.06489277e-04, 1.10588319e-04,\n",
       "        6.21276252e-04, 1.66734091e-04, 2.16733886e-04, 5.02034413e-04,\n",
       "        9.62656427e-04, 3.74260193e-04, 3.76370872e-04, 1.04168890e-04,\n",
       "        4.45840133e-04, 9.45906152e-05, 1.80872313e-04, 7.94396590e-04,\n",
       "        7.39469705e-04, 7.27305718e-04, 5.82536220e-04, 7.61455335e-04,\n",
       "        3.90051640e-04, 7.41532119e-05, 1.69194597e-05, 7.50759190e-04,\n",
       "        9.00635253e-04, 5.78227002e-04, 7.90395106e-04, 9.18740152e-04,\n",
       "        1.84331060e-04, 2.24907220e-04, 7.64007050e-04, 7.51994361e-04,\n",
       "        8.41721824e-04, 4.49695853e-05, 4.00947150e-04, 5.05210773e-04,\n",
       "        3.35163525e-04, 5.37351860e-04, 4.30178894e-04, 1.29695673e-04,\n",
       "        5.17583254e-04, 6.62289123e-05, 2.09588242e-04, 1.50790689e-05,\n",
       "        7.89062641e-04, 5.05520155e-04, 6.07909554e-04, 1.57715483e-05,\n",
       "        4.25871660e-04, 2.42708034e-04, 1.82935204e-05, 9.20045556e-04,\n",
       "        6.05599060e-04, 8.43052301e-04, 4.52304048e-04, 2.51915421e-04,\n",
       "        6.80285427e-04, 7.59484721e-04, 7.44464094e-05, 4.59072966e-04,\n",
       "        5.72416289e-04],\n",
       "       [7.91562067e-04, 4.12266680e-04, 2.59543058e-04, 3.30471429e-04,\n",
       "        1.52721898e-05, 5.82466450e-04, 1.11595521e-04, 7.70684341e-04,\n",
       "        5.14318031e-04, 9.21423532e-04, 5.13104103e-04, 9.32836935e-04,\n",
       "        7.95085633e-04, 7.50289328e-04, 7.15718938e-04, 7.53836896e-04,\n",
       "        6.76461025e-04, 9.95010604e-04, 7.33320002e-04, 9.77964806e-04,\n",
       "        6.21888406e-04, 4.42519626e-04, 2.22901769e-04, 4.14292657e-04,\n",
       "        5.76254378e-04, 9.41002404e-04, 8.90066758e-04, 5.92279529e-04,\n",
       "        5.44787431e-04, 9.83859705e-04, 8.77613857e-04, 3.53264745e-04,\n",
       "        9.58952623e-04, 4.98105679e-04, 2.54619907e-04, 4.06168965e-04,\n",
       "        2.09415553e-04, 4.09062682e-04, 8.07397484e-04, 7.65062634e-04,\n",
       "        1.37614570e-04, 5.46129271e-04, 8.14669173e-04, 1.47149323e-04,\n",
       "        9.22870566e-04, 1.55581023e-04, 8.46266325e-04, 9.28953267e-04,\n",
       "        7.60777081e-04, 9.39152981e-04, 6.92183698e-04, 7.29174304e-04,\n",
       "        7.78324820e-04, 4.67808908e-04, 9.93857403e-04, 5.92962008e-04,\n",
       "        8.61311225e-04, 8.32708423e-05, 3.36026881e-04, 6.80870079e-04,\n",
       "        8.63590825e-04, 3.04335004e-04, 9.83609023e-04, 6.06726960e-04,\n",
       "        3.54960376e-04, 1.25128056e-04, 9.48472542e-04, 1.28440965e-04,\n",
       "        4.93470880e-04, 7.67899005e-04, 7.72976255e-04, 7.01954240e-04,\n",
       "        5.80478486e-04, 3.17316701e-04, 8.31694484e-04, 4.97391757e-04,\n",
       "        2.23328164e-04, 6.90143854e-04, 2.91829182e-04, 8.57697685e-04,\n",
       "        6.32137059e-04],\n",
       "       [8.02742396e-05, 6.21295519e-04, 8.92319398e-04, 4.45703837e-04,\n",
       "        3.26663213e-04, 2.73026306e-04, 2.14007192e-04, 8.56749760e-04,\n",
       "        3.83090992e-04, 4.81366139e-04, 9.39755305e-04, 8.36090347e-04,\n",
       "        9.98242296e-04, 2.69150219e-04, 1.19923762e-04, 6.34214311e-04,\n",
       "        2.44568210e-04, 3.19090853e-04, 2.89537116e-04, 2.22225201e-04,\n",
       "        5.88699422e-04, 3.17176861e-04, 2.77009051e-04, 3.20707257e-04,\n",
       "        6.87938289e-04, 2.05910312e-04, 5.32078647e-04, 9.19735546e-04,\n",
       "        3.85637342e-04, 3.50892519e-04, 4.55323970e-04, 2.92962001e-05,\n",
       "        1.12540367e-04, 6.24788519e-04, 5.38913046e-04, 5.12863248e-04,\n",
       "        8.26499433e-04, 7.11675315e-05, 9.15936891e-05, 5.12898498e-05,\n",
       "        8.19668344e-04, 3.81871183e-04, 6.98282368e-04, 6.46183709e-04,\n",
       "        9.82219100e-04, 2.53269118e-04, 2.99532788e-05, 2.07049025e-04,\n",
       "        2.25247773e-04, 7.54622910e-04, 4.59733421e-04, 9.65156172e-04,\n",
       "        3.41068676e-04, 1.76442611e-04, 4.30313599e-05, 3.94125532e-04,\n",
       "        7.86699955e-04, 7.32764836e-04, 5.28724303e-04, 8.08719203e-04,\n",
       "        7.82613779e-04, 3.93974368e-04, 2.26031966e-05, 8.11648618e-04,\n",
       "        9.66092292e-04, 6.11975884e-04, 5.98050237e-05, 3.54035941e-04,\n",
       "        7.98613486e-04, 4.32822236e-04, 2.64501671e-04, 7.94048362e-04,\n",
       "        8.48204482e-04, 6.32858923e-04, 6.67200420e-04, 5.63112935e-04,\n",
       "        8.09524367e-04, 3.08108525e-04, 4.08073256e-04, 4.24453991e-04,\n",
       "        8.74636403e-04],\n",
       "       [2.65211404e-04, 8.77222918e-04, 7.02803574e-04, 6.00271486e-04,\n",
       "        2.22645834e-04, 7.06361920e-04, 2.79845082e-04, 1.35893769e-04,\n",
       "        1.39904449e-04, 3.43744469e-04, 4.73180001e-04, 6.53944004e-04,\n",
       "        6.71638049e-04, 8.63125384e-04, 5.72424200e-04, 4.57615236e-04,\n",
       "        3.33060089e-05, 4.48922761e-04, 5.32944911e-04, 3.27483381e-04,\n",
       "        2.90018997e-04, 6.06763325e-04, 8.79505310e-04, 5.48612463e-04,\n",
       "        7.21799279e-04, 2.91690625e-04, 7.08337346e-04, 4.03262307e-04,\n",
       "        2.37791063e-04, 7.18203285e-04, 3.26502214e-04, 1.17608591e-05,\n",
       "        3.53018590e-04, 4.27400318e-04, 9.33206530e-04, 4.35352728e-04,\n",
       "        6.46915822e-04, 7.76716008e-04, 3.32902815e-04, 5.82172905e-04,\n",
       "        8.60836250e-04, 8.25972189e-04, 7.61491963e-04, 3.93956845e-04,\n",
       "        6.15857997e-04, 6.72043826e-05, 7.11404330e-04, 4.95527682e-04,\n",
       "        9.20138058e-06, 1.01936724e-04, 6.69467363e-04, 1.97666883e-04,\n",
       "        5.18918563e-05, 5.69944253e-04, 3.51287970e-04, 9.81210091e-04,\n",
       "        1.23925514e-04, 3.34534074e-04, 1.04302527e-04, 7.62256336e-04,\n",
       "        6.65260300e-05, 4.34439143e-04, 4.36264126e-04, 5.06138020e-04,\n",
       "        3.07175299e-04, 8.93399423e-04, 7.63225161e-04, 5.95019778e-04,\n",
       "        1.36136731e-04, 9.97103099e-04, 5.98001410e-04, 5.52958918e-04,\n",
       "        3.18847327e-04, 5.13125796e-04, 3.20810381e-04, 5.69980176e-04,\n",
       "        7.79645765e-04, 9.78050326e-04, 4.00843030e-04, 5.65185119e-04,\n",
       "        6.69510690e-04],\n",
       "       [2.92907736e-04, 8.70617885e-05, 3.83667851e-04, 3.62940436e-04,\n",
       "        6.67541382e-04, 9.69823682e-04, 9.13753972e-04, 5.40481191e-04,\n",
       "        5.83640808e-04, 4.67358591e-04, 3.59630757e-05, 9.81588344e-04,\n",
       "        5.03565081e-04, 2.87332520e-04, 9.79139634e-04, 8.00507197e-04,\n",
       "        4.17067583e-04, 5.81099087e-04, 5.96709859e-04, 4.62315599e-04,\n",
       "        1.27031503e-04, 1.44366743e-04, 5.65327404e-04, 9.70865418e-04,\n",
       "        8.50957152e-05, 6.30843476e-04, 4.90502096e-04, 2.46811315e-04,\n",
       "        9.36817145e-04, 6.57162500e-04, 8.63787362e-04, 9.53623030e-06,\n",
       "        1.60805017e-04, 4.01902667e-04, 1.28067252e-04, 3.67915771e-04,\n",
       "        7.00642799e-04, 8.89205443e-04, 4.06513990e-04, 2.01701488e-05,\n",
       "        1.72465302e-04, 9.27391101e-04, 3.20186457e-04, 3.72682283e-04,\n",
       "        3.55025356e-04, 7.30601701e-04, 5.94700079e-04, 9.32466558e-04,\n",
       "        5.00018547e-04, 5.25683974e-05, 3.85611581e-04, 1.51422771e-04,\n",
       "        6.83929843e-04, 7.41199816e-04, 6.65993707e-04, 9.99735196e-04,\n",
       "        4.73187730e-04, 2.22021351e-04, 6.31205311e-04, 9.19805383e-04,\n",
       "        2.70344313e-05, 1.18566006e-04, 5.94891958e-04, 7.50081918e-04,\n",
       "        6.85446435e-04, 2.75366377e-05, 4.06868837e-04, 6.50769931e-04,\n",
       "        5.91799086e-04, 7.66060034e-04, 4.11312676e-04, 6.04901693e-04,\n",
       "        7.01003748e-04, 7.18416520e-04, 9.20037101e-04, 8.22951585e-04,\n",
       "        1.22029111e-04, 4.96230282e-04, 3.09781161e-04, 9.36017514e-04,\n",
       "        9.62043442e-04]])"
      ]
     },
     "execution_count": 8,
     "metadata": {},
     "output_type": "execute_result"
    }
   ],
   "source": [
    "# theta2\n",
    "theta2 = np.random.rand(10, 81)\n",
    "theta2 = theta2 / 1000\n",
    "theta2"
   ]
  },
  {
   "cell_type": "markdown",
   "metadata": {},
   "source": [
    "#### Se realizó la división de 1000 de los valores de theta ya que al relizar las iteraciones de optimización se quedaba en la iteración 15"
   ]
  },
  {
   "cell_type": "code",
   "execution_count": 9,
   "metadata": {},
   "outputs": [],
   "source": [
    "flatten_list_of_arrays = lambda list_of_arrays: reduce(\n",
    "    lambda acc, v: np.array([*acc.flatten(), *v.flatten()]),\n",
    "    list_of_arrays\n",
    ")"
   ]
  },
  {
   "cell_type": "code",
   "execution_count": 10,
   "metadata": {},
   "outputs": [],
   "source": [
    "def cost_function(flat_thetas, shapes, X, Y):\n",
    "    a = feed_forward(\n",
    "        inflate_matrixes(flat_thetas, shapes),\n",
    "        X\n",
    "    )\n",
    "    \n",
    "    return -(Y * np.log(a[-1]) + (1 - Y) * np.log(1 - a[-1])).sum() / len(X)"
   ]
  },
  {
   "cell_type": "markdown",
   "metadata": {},
   "source": [
    "La sigmoide es la función de activación de \"z\" hacia \"a\""
   ]
  },
  {
   "cell_type": "code",
   "execution_count": 11,
   "metadata": {},
   "outputs": [],
   "source": [
    "def sigmoind(A):\n",
    "    for cell in np.nditer(A, op_flags=['readwrite']):\n",
    "        cell[...] = 1.0 / (1.0 + 2.718281828459045**(-1.0 * cell))\n",
    "    return A"
   ]
  },
  {
   "cell_type": "markdown",
   "metadata": {},
   "source": [
    "#### Feed forward, incluye la agregacion de la columna de unos en X y las dos transformaciones de a. Es el calculo hacia adelante de las \"z\" y \"a\" de 1 a la L\n"
   ]
  },
  {
   "cell_type": "code",
   "execution_count": 12,
   "metadata": {},
   "outputs": [],
   "source": [
    "def feed_forward(thetas, X):\n",
    "    a = [X]\n",
    "    for i in range(len(thetas)):\n",
    "        a.append(\n",
    "            sigmoind(\n",
    "                np.matmul(\n",
    "                    np.hstack((\n",
    "                        np.ones(len(X)).reshape(len(X), 1),\n",
    "                        a[i]\n",
    "                    )),\n",
    "                    thetas[i].T\n",
    "                )\n",
    "            )\n",
    "        )\n",
    "    return a\n"
   ]
  },
  {
   "cell_type": "markdown",
   "metadata": {},
   "source": [
    "Calculamos delta super L. \n",
    "\n",
    "Ahora vamos a calcuar delta L para las capas (sin incluir la capa de entrada y final)."
   ]
  },
  {
   "cell_type": "code",
   "execution_count": 13,
   "metadata": {},
   "outputs": [],
   "source": [
    "def inflate_matrixes(flat_thetas, shapes):\n",
    "    layers = len(shapes) + 1\n",
    "    sizes = [shape[0] * shape[1] for shape in shapes]\n",
    "    steps = np.zeros(layers, dtype=int)\n",
    "\n",
    "     \n",
    "    for i in range(layers - 1):\n",
    "        steps[i + 1] = steps[i] + sizes[i]\n",
    "\n",
    "    return [\n",
    "        flat_thetas[steps[i]: steps[i + 1]].reshape(*shapes[i])\n",
    "        for i in range(layers - 1)\n",
    "    ]"
   ]
  },
  {
   "cell_type": "code",
   "execution_count": 14,
   "metadata": {},
   "outputs": [],
   "source": [
    "def back_propagation(flat_thetas, shapes, X, Y):\n",
    "    m, layers = len(X), len(shapes) + 1\n",
    "    thetas = inflate_matrixes(flat_thetas, shapes)\n",
    "    a = feed_forward(thetas, X)\n",
    "    deltas = [*range(layers - 1), a[-1] - Y]\n",
    "\n",
    "    # 2.4\n",
    "    # se mueve desde L-1 porque no se debe tomar la ultima capa\n",
    "    # tampoco se toma en cuenta la primera capa porque es la capa de entrada\n",
    "    # no se toma la capa 1 ni 3, solo la 2\n",
    "    for i in range(layers - 2, 0, -1):\n",
    "        # NO TOMAR EN CUENTA LA PRIMERA COLUMNA de la matriz thetas[i] por bias.\n",
    "        bias = np.delete(thetas[i], 0, 1)\n",
    "        # se multiplica el producto de theta de la capa i por el error de la siguiente capa y el proucto de la salida de la capa i (a[i])  por 1 - a[i]\n",
    "        deltas[i] = deltas[i + 1] @ bias * ( a[i] * ( 1-a[i]) )\n",
    "    \n",
    "    # se entrega una lista de los vectores columnas\n",
    "    matrices_de_error = []\n",
    "\n",
    "    # se está en 2.5\n",
    "    # se mueve de 0 a L - 1\n",
    "    for i in range(layers - 1):\n",
    "        a[i] = np.hstack((np.ones(len(a[i])).reshape(len(a[i]), 1), a[i]))\n",
    "        matrices_de_error.append(\n",
    "            (deltas[i + 1].T @ a[i])/m\n",
    "        )\n",
    "    \n",
    "    # regresa los theta aplastados para utilizarse en la optimizacion, esta concatenada de forma plana\n",
    "    return flatten_list_of_arrays(np.asarray(matrices_de_error))"
   ]
  },
  {
   "cell_type": "markdown",
   "metadata": {},
   "source": [
    "#### Agregar el theta1 (80,785) y theta2 (10,81) a una lista, esta se aplanará y se utilizará en el descenso de gradiente"
   ]
  },
  {
   "cell_type": "code",
   "execution_count": 15,
   "metadata": {},
   "outputs": [
    {
     "data": {
      "text/plain": [
       "array([0.00072906, 0.000996  , 0.00041468, ..., 0.00030978, 0.00093602,\n",
       "       0.00096204])"
      ]
     },
     "execution_count": 15,
     "metadata": {},
     "output_type": "execute_result"
    }
   ],
   "source": [
    "arreglo_c = []\n",
    "arreglo_c.append(theta1)\n",
    "arreglo_c.append(theta2)\n",
    "\n",
    "# flat_theta\n",
    "flat_theta = flatten_list_of_arrays(arreglo_c)\n",
    "flat_theta"
   ]
  },
  {
   "cell_type": "code",
   "execution_count": 16,
   "metadata": {},
   "outputs": [],
   "source": [
    "# separar en shapes\n",
    "NETWORK_ARCHITECTURE = np.array([\n",
    "    n,\n",
    "    80,\n",
    "    10\n",
    "])\n",
    "\n",
    "theta_shapes = np.hstack((\n",
    "    NETWORK_ARCHITECTURE[1:].reshape(len(NETWORK_ARCHITECTURE) - 1, 1),\n",
    "    (NETWORK_ARCHITECTURE[:-1] + 1).reshape(len(NETWORK_ARCHITECTURE) - 1, 1)\n",
    "))"
   ]
  },
  {
   "cell_type": "markdown",
   "metadata": {},
   "source": [
    "# Optimizar theta\n",
    "# NO CORRER !!"
   ]
  },
  {
   "cell_type": "code",
   "execution_count": 17,
   "metadata": {},
   "outputs": [
    {
     "data": {
      "text/plain": [
       "'print(\"OPTIMIZING...\")\\nresult = op.minimize(\\n    fun = cost_function,\\n    x0 = flat_theta,\\n    args = (theta_shapes, X, Y),\\n    method = \\'L-BFGS-B\\',\\n    jac = back_propagation,\\n    options = {\\'disp\\': True, \\'maxiter\\': 100}\\n)\\nprint(\"OPTIMIZED\")\\nprint(result.x)'"
      ]
     },
     "execution_count": 17,
     "metadata": {},
     "output_type": "execute_result"
    }
   ],
   "source": [
    "print(\"OPTIMIZING...\")\n",
    "result = op.minimize(\n",
    "    fun = cost_function,\n",
    "    x0 = flat_theta,\n",
    "    args = (theta_shapes, X, Y),\n",
    "    method = 'L-BFGS-B',\n",
    "    jac = back_propagation,\n",
    "    options = {'disp': True, 'maxiter': 100}\n",
    ")\n",
    "print(\"OPTIMIZED\")\n",
    "print(result.x)"
   ]
  },
  {
   "cell_type": "markdown",
   "metadata": {},
   "source": [
    "# NO CORRER !!"
   ]
  },
  {
   "cell_type": "code",
   "execution_count": 18,
   "metadata": {},
   "outputs": [
    {
     "data": {
      "text/plain": [
       "'outfile = open(\"thetaOptimizado.txt\", \"wb\")\\npickle.dump(result.x, outfile)\\noutfile.close()'"
      ]
     },
     "execution_count": 18,
     "metadata": {},
     "output_type": "execute_result"
    }
   ],
   "source": [
    "#se guarda y encripta el archivo en un .txt, en caso de que se haya corrido esta area y la previa, \n",
    "# no se va a guardar el resultado donde se guardó la el optimizado con 3000 iteraciones.\n",
    "outfile = open(\"thetaOptimizado.txt\", \"wb\")\n",
    "pickle.dump(result.x, outfile)\n",
    "outfile.close()"
   ]
  },
  {
   "cell_type": "markdown",
   "metadata": {},
   "source": [
    "Se realizó el método de optimización con 3000 iteraciones y se guardó en un archivo .txt, adjunto se encuentra un screenshot de cuando se terminó la optimización"
   ]
  },
  {
   "cell_type": "markdown",
   "metadata": {},
   "source": [
    "<img src=\"screenshot.jpg\"/>"
   ]
  },
  {
   "cell_type": "code",
   "execution_count": 22,
   "metadata": {},
   "outputs": [],
   "source": [
    "# funcion de costo para el theta optimizado\n",
    "def cost_functionO(flat_thetas, shapes, X, Y):\n",
    "    a = feed_forward(\n",
    "        inflate_matrixes(flat_thetas, shapes),\n",
    "        X\n",
    "    )\n",
    "    \n",
    "    # regresa la capa que tiene 3 neuronas\n",
    "    return a[-1]"
   ]
  },
  {
   "cell_type": "markdown",
   "metadata": {},
   "source": [
    "se desencripta el archivo .txt y se aplana"
   ]
  },
  {
   "cell_type": "code",
   "execution_count": 23,
   "metadata": {},
   "outputs": [
    {
     "name": "stderr",
     "output_type": "stream",
     "text": [
      "f:\\python364bits\\lib\\site-packages\\ipykernel_launcher.py:3: RuntimeWarning: overflow encountered in double_scalars\n",
      "  This is separate from the ipykernel package so we can avoid doing imports until\n"
     ]
    }
   ],
   "source": [
    "with open(\"thetaOptimizado1.txt\", \"rb\") as openfile:\n",
    "    while True:\n",
    "        try:\n",
    "            tOptimizado = pickle.load(openfile)\n",
    "        except EOFError:\n",
    "            break\n",
    "\n",
    "flat_theta_optimizado = flatten_list_of_arrays(tOptimizado)\n",
    "\n",
    "costoO = cost_functionO(flat_theta_optimizado, theta_shapes, X, Y)"
   ]
  },
  {
   "cell_type": "markdown",
   "metadata": {},
   "source": [
    "Se crea un contador y se va a hacer una interación de cada linea del array por medio del ciclo for\n",
    "Es importante mencionar que se utiliza np.asarray para facilitar la búsqueda en columnas.\n",
    "\n",
    "Para cada linea, se busca cual columna tiene el mayor argumento y se extrae el índice de la columna.\n",
    "se compara el indice de la columna con la posición en Y[k] (que posee los valores esperados) y si ambos concuerdan, se aumenta el contador"
   ]
  },
  {
   "cell_type": "code",
   "execution_count": 24,
   "metadata": {},
   "outputs": [
    {
     "name": "stdout",
     "output_type": "stream",
     "text": [
      "Porcentaje:  83.48666666666666\n"
     ]
    }
   ],
   "source": [
    "contador_correctos = 0\n",
    "\n",
    "for k in range(0,60000):\n",
    "    max_index_col = np.argmax(np.asarray(costoO[k]), axis=0)\n",
    "    #print(max_index_col)\n",
    "    if np.argmax(np.asarray(Y[k]), axis=0) == max_index_col:\n",
    "        #print(\"correcto :D\")\n",
    "        contador_correctos = contador_correctos + 1\n",
    "\n",
    "print(\"Porcentaje: \", (contador_correctos * 100) / 60000)\n"
   ]
  },
  {
   "cell_type": "markdown",
   "metadata": {},
   "source": [
    "# Porcentaje"
   ]
  },
  {
   "cell_type": "code",
   "execution_count": 25,
   "metadata": {},
   "outputs": [
    {
     "data": {
      "text/plain": [
       "83.48666666666666"
      ]
     },
     "execution_count": 25,
     "metadata": {},
     "output_type": "execute_result"
    }
   ],
   "source": [
    "(contador_correctos * 100) / 60000"
   ]
  }
 ],
 "metadata": {
  "kernelspec": {
   "display_name": "Python 3",
   "language": "python",
   "name": "python3"
  },
  "language_info": {
   "codemirror_mode": {
    "name": "ipython",
    "version": 3
   },
   "file_extension": ".py",
   "mimetype": "text/x-python",
   "name": "python",
   "nbconvert_exporter": "python",
   "pygments_lexer": "ipython3",
   "version": "3.7.7"
  }
 },
 "nbformat": 4,
 "nbformat_minor": 2
}

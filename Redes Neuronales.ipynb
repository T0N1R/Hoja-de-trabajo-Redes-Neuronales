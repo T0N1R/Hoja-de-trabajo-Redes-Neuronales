{
 "cells": [
  {
   "cell_type": "markdown",
   "metadata": {},
   "source": [
    "# Laboratorio Redes Neuronales\n",
    "\n",
    "\n",
    "##### Antonio Reyes #17273"
   ]
  },
  {
   "cell_type": "markdown",
   "metadata": {},
   "source": [
    "Proporcione un modelo de redes neuronales del tipo feed\n",
    "forward fully connected que prediga el tipo de prenda de vestir es, esto usando todas las\n",
    "features que considere necesarias"
   ]
  },
  {
   "cell_type": "code",
   "execution_count": 1,
   "metadata": {},
   "outputs": [],
   "source": [
    "# Importando paquetes\n",
    "import numpy as np\n",
    "import pandas as pd\n",
    "from functools import reduce\n",
    "from scipy import optimize as op\n",
    "import pickle\n",
    "import math"
   ]
  },
  {
   "cell_type": "markdown",
   "metadata": {},
   "source": [
    "- numpy se utiliza para el manejo de matrices\n",
    "- pandas se utiliza para la lectura de la base de datos (que se encuentra en un docuemtno .csv\n",
    "- reduce se utiliza en la función flatten_list_of_arrays para aplanar la matriz con valores theta\n",
    "- pickle es una librería que se encarga de encriptar un documento texto, se utiliza luego de realizar las iteraciones de back propagation con op (importado de scipy)\n"
   ]
  },
  {
   "cell_type": "code",
   "execution_count": 2,
   "metadata": {},
   "outputs": [],
   "source": [
    "#obtener datos de csv\n",
    "dataset = pd.read_csv('fashion-mnist_train.csv')\n",
    "X = dataset.iloc[:60000, 1:].values\n",
    "np.asarray(X)\n",
    "\n",
    "# tamaño para el dato inicial de las 3 capas de la red neuronal\n",
    "m,n = X.shape"
   ]
  },
  {
   "cell_type": "code",
   "execution_count": 3,
   "metadata": {},
   "outputs": [],
   "source": [
    "# valores esperados\n",
    "Y = np.asarray(dataset.iloc[:60000, 0])"
   ]
  },
  {
   "cell_type": "markdown",
   "metadata": {},
   "source": [
    "#### X son pixel 1 - 784\n",
    "#### Y son los valores esperados"
   ]
  },
  {
   "cell_type": "code",
   "execution_count": 4,
   "metadata": {},
   "outputs": [
    {
     "data": {
      "text/plain": [
       "array([2, 9, 6, ..., 8, 8, 7], dtype=int64)"
      ]
     },
     "execution_count": 4,
     "metadata": {},
     "output_type": "execute_result"
    }
   ],
   "source": [
    "Y"
   ]
  },
  {
   "cell_type": "code",
   "execution_count": 5,
   "metadata": {},
   "outputs": [],
   "source": [
    "# reshape y conversion a int\n",
    "Y = Y.reshape(m,1)\n",
    "\n",
    "Y = (Y == np.array(range(10))).astype(int)"
   ]
  },
  {
   "cell_type": "code",
   "execution_count": 6,
   "metadata": {},
   "outputs": [
    {
     "data": {
      "text/plain": [
       "array([[0, 0, 1, ..., 0, 0, 0],\n",
       "       [0, 0, 0, ..., 0, 0, 1],\n",
       "       [0, 0, 0, ..., 0, 0, 0],\n",
       "       ...,\n",
       "       [0, 0, 0, ..., 0, 1, 0],\n",
       "       [0, 0, 0, ..., 0, 1, 0],\n",
       "       [0, 0, 0, ..., 1, 0, 0]])"
      ]
     },
     "execution_count": 6,
     "metadata": {},
     "output_type": "execute_result"
    }
   ],
   "source": [
    "Y"
   ]
  },
  {
   "cell_type": "markdown",
   "metadata": {},
   "source": [
    "#### Por la capacidad de la computadora, la capa por la que pasarán los datos de entrada tendrán 80 neuronas, por lo tanto lo valores de la matriz theta1 será (80,785)\n",
    "\n",
    "#### La tercera capa será (10,81) y en ese orden para no utilizar la transpuesta"
   ]
  },
  {
   "cell_type": "code",
   "execution_count": 7,
   "metadata": {},
   "outputs": [
    {
     "data": {
      "text/plain": [
       "array([[7.06713277e-04, 7.74894427e-04, 7.79419426e-04, ...,\n",
       "        8.49005195e-04, 5.47074107e-04, 7.62369168e-04],\n",
       "       [7.03531332e-04, 8.00064859e-04, 5.18149662e-04, ...,\n",
       "        1.12995270e-04, 7.17954970e-04, 4.09532716e-04],\n",
       "       [7.05418511e-04, 6.01643209e-04, 5.38692265e-04, ...,\n",
       "        1.51009518e-05, 9.34071278e-04, 3.63592406e-04],\n",
       "       ...,\n",
       "       [1.25022073e-04, 7.22372813e-04, 3.35671213e-04, ...,\n",
       "        8.12617066e-04, 2.87881113e-04, 1.69036844e-04],\n",
       "       [3.52342743e-05, 2.03027604e-04, 2.05054845e-04, ...,\n",
       "        6.53933638e-04, 9.73498510e-06, 9.43162188e-04],\n",
       "       [5.67635595e-04, 3.43364465e-04, 1.03181217e-05, ...,\n",
       "        1.93577583e-04, 8.07709641e-04, 8.22999759e-04]])"
      ]
     },
     "execution_count": 7,
     "metadata": {},
     "output_type": "execute_result"
    }
   ],
   "source": [
    "# random thetas\n",
    "# theta1\n",
    "theta1 = np.random.rand(80,785)\n",
    "theta1 = theta1 / 1000\n",
    "theta1"
   ]
  },
  {
   "cell_type": "code",
   "execution_count": 8,
   "metadata": {
    "scrolled": true
   },
   "outputs": [
    {
     "data": {
      "text/plain": [
       "array([[3.72041138e-04, 1.39816182e-04, 8.06084585e-04, 4.30607022e-04,\n",
       "        7.89420315e-04, 1.44469087e-04, 2.41111151e-04, 5.93035202e-04,\n",
       "        7.04496516e-04, 1.20739757e-04, 8.73444907e-04, 7.03400206e-04,\n",
       "        7.45010788e-04, 4.52158618e-05, 1.61792260e-04, 3.28217764e-04,\n",
       "        1.78462688e-04, 9.10108203e-04, 3.33356296e-04, 4.26376234e-04,\n",
       "        9.19313942e-04, 6.31421172e-04, 5.31716093e-05, 5.06240168e-04,\n",
       "        5.49109806e-04, 5.61941469e-04, 8.81745992e-04, 4.55193634e-04,\n",
       "        2.83420029e-06, 5.96979069e-04, 4.21663545e-04, 3.85861554e-04,\n",
       "        9.42729519e-04, 4.85779474e-04, 7.81619657e-04, 7.66299103e-04,\n",
       "        8.22030909e-04, 8.92209273e-04, 3.18867188e-04, 9.33041691e-04,\n",
       "        8.26872814e-04, 1.95488867e-04, 8.14710705e-05, 4.73947674e-04,\n",
       "        5.83270922e-04, 2.99145498e-04, 5.37459691e-04, 7.62840018e-04,\n",
       "        6.36915454e-04, 6.81063583e-04, 8.22774646e-04, 6.33299564e-04,\n",
       "        1.79791112e-04, 5.33360499e-04, 8.65792554e-05, 5.90628864e-04,\n",
       "        2.14447290e-04, 6.98623293e-04, 9.82196312e-04, 2.86053467e-04,\n",
       "        8.79068391e-05, 1.86529378e-04, 5.42162453e-04, 6.31423603e-04,\n",
       "        8.21963827e-04, 9.40644046e-04, 3.04659064e-04, 3.71827877e-04,\n",
       "        7.36818556e-05, 2.67592400e-04, 7.86582392e-04, 7.81201804e-04,\n",
       "        6.30252405e-04, 9.01300430e-04, 5.06232297e-04, 9.52297748e-04,\n",
       "        9.94017499e-04, 9.88818351e-04, 2.03866725e-04, 6.85316704e-04,\n",
       "        9.93433009e-04],\n",
       "       [7.05639737e-04, 1.73661454e-04, 9.81781571e-04, 5.82940580e-04,\n",
       "        7.70154280e-04, 2.87856208e-04, 3.96187665e-04, 3.95959778e-04,\n",
       "        5.64524883e-04, 5.77318997e-05, 2.59271194e-04, 4.35035405e-04,\n",
       "        5.05602510e-04, 7.34679500e-04, 4.19554812e-04, 8.38648216e-04,\n",
       "        4.82460545e-04, 8.68499907e-04, 3.75726886e-04, 2.67673863e-04,\n",
       "        6.36507203e-04, 3.24350484e-05, 8.17928753e-04, 7.34598894e-04,\n",
       "        9.04781140e-05, 8.91446844e-04, 4.77352055e-04, 7.92679720e-04,\n",
       "        4.45874415e-04, 9.34246303e-04, 4.74279639e-04, 5.69933837e-04,\n",
       "        4.78067353e-04, 1.65136066e-04, 2.42694490e-04, 2.31538173e-04,\n",
       "        4.01021626e-04, 3.32224974e-04, 9.37597778e-04, 4.55258270e-04,\n",
       "        8.60492551e-04, 5.90422073e-04, 5.63221381e-05, 4.72697805e-04,\n",
       "        3.13495691e-04, 1.79524809e-04, 5.38953596e-04, 9.20044205e-04,\n",
       "        9.66435441e-04, 1.04076516e-04, 8.73450952e-04, 3.96730338e-05,\n",
       "        6.25531592e-04, 3.60657603e-04, 9.28974630e-04, 2.17323411e-04,\n",
       "        2.44464961e-04, 4.83584079e-04, 4.66926266e-04, 9.86997512e-04,\n",
       "        2.43480687e-04, 3.17843242e-04, 5.67344553e-04, 2.84769535e-04,\n",
       "        3.31260624e-04, 5.40396063e-04, 6.46555336e-04, 3.72397613e-04,\n",
       "        9.42208482e-04, 3.83298752e-04, 1.81971430e-04, 8.65494269e-04,\n",
       "        7.39748604e-04, 7.78820750e-05, 5.38522838e-04, 2.23731913e-04,\n",
       "        2.53161132e-04, 6.45042039e-04, 2.24684323e-04, 6.76439793e-04,\n",
       "        3.88406460e-04],\n",
       "       [9.42687179e-04, 6.91294003e-04, 9.58589421e-05, 6.47092222e-04,\n",
       "        1.37270344e-04, 2.16810792e-04, 6.99387478e-04, 7.83835210e-04,\n",
       "        1.01445692e-04, 4.81537487e-04, 7.71695283e-04, 7.73229451e-04,\n",
       "        2.21645389e-04, 3.29670712e-04, 1.04813501e-04, 6.43770926e-04,\n",
       "        2.61365289e-04, 6.47222997e-04, 4.61466886e-04, 9.35942683e-04,\n",
       "        8.90013893e-04, 7.64262573e-04, 7.75781765e-04, 5.90567350e-04,\n",
       "        8.53230608e-04, 6.59354499e-04, 6.34981380e-04, 8.24272348e-04,\n",
       "        7.38699983e-04, 7.01840882e-04, 7.81013689e-04, 7.77318560e-05,\n",
       "        7.89365860e-05, 3.67908967e-04, 1.62920023e-04, 2.26760958e-04,\n",
       "        6.52121086e-04, 8.41689003e-04, 9.17644925e-04, 7.24706552e-04,\n",
       "        4.16791756e-04, 9.35131036e-04, 6.59041341e-04, 4.20601732e-04,\n",
       "        4.97886124e-04, 3.48074898e-05, 1.49740559e-04, 8.15479223e-04,\n",
       "        9.04826505e-04, 9.45320600e-04, 1.26922866e-04, 4.07329240e-04,\n",
       "        3.26705590e-04, 9.86709853e-04, 4.28022658e-04, 4.27889609e-04,\n",
       "        5.76989070e-04, 6.15281268e-05, 5.51519394e-04, 3.57029845e-04,\n",
       "        8.28337269e-04, 7.57723229e-04, 9.24360175e-04, 2.95681108e-04,\n",
       "        4.39208507e-04, 8.23082476e-04, 4.96886319e-04, 2.27405328e-04,\n",
       "        3.93106411e-04, 5.62634968e-04, 7.81729673e-04, 4.67420436e-04,\n",
       "        7.44820345e-04, 7.71714996e-04, 2.48752595e-04, 4.51685679e-04,\n",
       "        2.16669981e-04, 3.89194329e-04, 3.90533091e-04, 7.45407686e-04,\n",
       "        6.05602741e-04],\n",
       "       [1.65626091e-04, 9.51468585e-04, 4.97508580e-04, 5.58730215e-04,\n",
       "        7.59840262e-04, 2.81384503e-04, 6.37658880e-05, 6.85859042e-04,\n",
       "        2.58954670e-04, 1.52371204e-04, 1.71446508e-04, 2.68322557e-04,\n",
       "        7.19872474e-04, 4.61976154e-04, 2.22493875e-04, 2.05101689e-05,\n",
       "        6.84057911e-05, 5.17794405e-04, 3.49491210e-05, 1.01825373e-04,\n",
       "        5.59061559e-04, 2.06904895e-04, 6.82094838e-04, 4.09685500e-04,\n",
       "        1.28716024e-04, 3.49556060e-04, 3.09082831e-04, 4.95617382e-04,\n",
       "        4.33586429e-04, 6.57775799e-04, 9.95986215e-04, 8.46553421e-04,\n",
       "        5.00631207e-05, 7.47602148e-04, 4.20307933e-04, 9.81472437e-04,\n",
       "        4.45176162e-04, 6.78838530e-04, 2.90917161e-04, 7.97121940e-04,\n",
       "        3.59009943e-04, 9.72407070e-04, 7.15853545e-04, 5.40397845e-04,\n",
       "        7.94809816e-04, 9.79339550e-04, 4.60937180e-04, 9.63556534e-04,\n",
       "        1.90481333e-04, 6.61342747e-04, 9.14902791e-04, 7.63779844e-04,\n",
       "        1.10939893e-04, 1.07653432e-04, 8.33467057e-04, 9.64739092e-04,\n",
       "        3.08232161e-04, 9.90900858e-04, 6.38739811e-04, 2.78113379e-04,\n",
       "        4.35149641e-04, 7.37218914e-04, 9.91558872e-04, 4.41753816e-04,\n",
       "        8.87067993e-04, 2.24536862e-05, 5.03875990e-04, 7.79516120e-04,\n",
       "        1.98152470e-04, 6.72696603e-04, 7.05503227e-05, 7.73500723e-04,\n",
       "        1.74173770e-06, 8.50904754e-04, 6.80779947e-04, 7.37778822e-04,\n",
       "        9.62058343e-04, 3.61257553e-04, 1.46002373e-04, 2.36279864e-04,\n",
       "        8.58916619e-04],\n",
       "       [8.08389585e-04, 7.84837721e-04, 7.92319083e-04, 9.74485922e-04,\n",
       "        4.95385431e-04, 2.35599741e-04, 2.47721041e-04, 3.90998781e-04,\n",
       "        7.48246119e-04, 5.08137261e-04, 4.19513806e-04, 7.40681364e-04,\n",
       "        1.67403879e-04, 6.39162731e-04, 9.75352989e-04, 5.16676048e-05,\n",
       "        3.33071097e-04, 7.98350448e-04, 1.21029015e-04, 7.71484700e-04,\n",
       "        4.97338997e-05, 8.10275907e-04, 2.48211734e-04, 9.61503313e-04,\n",
       "        6.14118587e-04, 2.37364970e-04, 7.27745930e-04, 7.63264418e-04,\n",
       "        6.18907931e-04, 4.65961287e-04, 1.73163618e-04, 1.05475838e-04,\n",
       "        5.86068363e-04, 2.92641861e-04, 9.61273456e-04, 9.35888983e-04,\n",
       "        2.35630579e-04, 2.67455238e-04, 9.84530203e-04, 6.80376082e-04,\n",
       "        4.34891581e-04, 4.15316367e-04, 9.00176342e-04, 3.66333811e-04,\n",
       "        5.13185792e-04, 2.24944383e-04, 1.21603522e-04, 8.18253273e-04,\n",
       "        7.78612746e-04, 9.95098493e-04, 1.43116899e-04, 5.01676985e-04,\n",
       "        2.88637492e-04, 1.12891331e-04, 9.55467566e-04, 9.26185995e-05,\n",
       "        3.43708344e-05, 4.46616980e-04, 8.00380219e-04, 1.89520708e-04,\n",
       "        4.88887411e-04, 5.00070671e-04, 5.77728765e-04, 6.81719913e-04,\n",
       "        8.91405422e-04, 1.36045147e-04, 2.18922740e-04, 1.38483002e-04,\n",
       "        1.33254838e-04, 2.28913637e-04, 2.05960053e-04, 1.39015256e-04,\n",
       "        4.31466251e-04, 4.17145631e-04, 5.82204899e-04, 5.05396945e-04,\n",
       "        3.72912928e-04, 5.90676805e-04, 4.94915646e-04, 4.13913151e-04,\n",
       "        7.82752210e-04],\n",
       "       [3.46953743e-04, 3.79661096e-04, 2.55438980e-04, 9.72836015e-04,\n",
       "        9.88460381e-04, 4.31309035e-04, 3.85389951e-04, 2.25411734e-04,\n",
       "        3.16861952e-04, 8.47714133e-04, 1.16759905e-04, 9.27024690e-04,\n",
       "        9.26952435e-05, 2.97346355e-04, 5.17308120e-04, 8.39195927e-04,\n",
       "        4.09987725e-04, 6.29319457e-05, 2.41187162e-04, 1.25364826e-04,\n",
       "        8.00272637e-05, 9.85754000e-04, 2.06581008e-04, 9.78637933e-04,\n",
       "        4.15454148e-05, 2.73885565e-04, 9.80659066e-04, 4.78945907e-04,\n",
       "        8.69549767e-04, 9.13775072e-04, 2.16499121e-04, 5.30642527e-04,\n",
       "        5.31950547e-05, 2.94578086e-04, 7.61120203e-04, 6.36852406e-04,\n",
       "        1.39533487e-04, 4.83363536e-05, 5.25645171e-04, 4.68316042e-05,\n",
       "        2.66593737e-04, 1.45066680e-04, 7.84248818e-04, 6.45973805e-04,\n",
       "        1.19437698e-04, 6.66952147e-04, 7.33868851e-04, 6.05602286e-04,\n",
       "        7.83144088e-04, 2.15303804e-04, 9.52253998e-04, 1.08982503e-04,\n",
       "        5.82795707e-05, 2.12950931e-04, 2.36559011e-04, 8.77629733e-04,\n",
       "        4.59058660e-04, 6.62309539e-04, 7.70278331e-04, 1.68663156e-04,\n",
       "        2.26332778e-04, 5.02728822e-04, 1.28339481e-04, 7.82413667e-04,\n",
       "        2.67827132e-04, 6.28608207e-04, 4.26280410e-04, 1.22223980e-04,\n",
       "        5.45735018e-04, 1.95100491e-04, 8.48675225e-04, 5.65173757e-04,\n",
       "        9.36344265e-04, 9.64134349e-04, 4.19880800e-04, 1.08413251e-04,\n",
       "        1.16967095e-04, 2.52734609e-04, 5.94719197e-04, 7.27447336e-04,\n",
       "        5.23590202e-04],\n",
       "       [6.78997449e-04, 9.27733842e-04, 2.85597772e-04, 8.27809589e-04,\n",
       "        8.23422210e-04, 1.58146817e-04, 5.99610991e-04, 7.98751669e-04,\n",
       "        9.91252251e-04, 1.05994622e-04, 3.77853795e-04, 3.50970263e-04,\n",
       "        7.01023452e-04, 4.76194163e-04, 7.73638737e-04, 4.34170240e-04,\n",
       "        9.38893845e-04, 3.35430063e-04, 1.43761500e-04, 3.50470278e-04,\n",
       "        9.22018442e-04, 3.10538563e-04, 6.19058575e-04, 8.63280415e-04,\n",
       "        4.78101423e-04, 8.26184028e-04, 3.06294885e-04, 4.36481653e-04,\n",
       "        8.11124108e-04, 3.86676659e-04, 3.12610308e-05, 1.55787763e-04,\n",
       "        7.06513635e-04, 2.31846428e-04, 2.75465592e-04, 3.79248768e-04,\n",
       "        4.32171828e-04, 3.18027440e-04, 9.73710325e-04, 9.29188659e-04,\n",
       "        9.68708175e-04, 5.84887597e-04, 6.52325003e-05, 5.39728367e-04,\n",
       "        8.02983653e-04, 2.73996932e-06, 4.80889399e-04, 8.03802809e-04,\n",
       "        4.98338644e-04, 9.06549187e-04, 9.85487351e-04, 3.88330945e-04,\n",
       "        9.11883945e-04, 1.96722114e-04, 2.01789251e-04, 9.75983111e-04,\n",
       "        5.37090194e-04, 7.16682887e-04, 2.70778599e-04, 6.26217849e-04,\n",
       "        2.08814500e-04, 4.11173365e-04, 7.38215547e-06, 8.40620586e-04,\n",
       "        1.19877020e-04, 3.75764446e-04, 4.80738761e-04, 8.62665927e-05,\n",
       "        1.28377590e-04, 9.10716577e-05, 9.42737842e-04, 7.41740727e-04,\n",
       "        2.09326356e-04, 2.28526661e-04, 5.84819500e-04, 7.41826199e-04,\n",
       "        3.96362337e-04, 4.87789754e-04, 5.62618964e-04, 1.64989166e-04,\n",
       "        8.15620622e-04],\n",
       "       [1.26876935e-05, 5.18187011e-05, 6.08264050e-04, 8.67752087e-04,\n",
       "        2.55718855e-04, 2.90872944e-04, 1.31617728e-04, 9.30642030e-04,\n",
       "        5.69437821e-04, 4.76777246e-04, 5.15564857e-04, 9.09928781e-04,\n",
       "        9.05666737e-04, 9.58639695e-05, 3.90086017e-04, 7.47017790e-04,\n",
       "        9.12017926e-04, 4.28307477e-05, 5.27537066e-04, 6.17753406e-04,\n",
       "        6.35773701e-04, 1.12535514e-04, 7.60604353e-04, 2.06596713e-05,\n",
       "        7.10118526e-04, 3.86336435e-04, 3.45839990e-04, 7.23894010e-05,\n",
       "        9.39158707e-06, 3.28357478e-04, 5.36634435e-04, 7.08872647e-04,\n",
       "        7.31378580e-04, 4.21758938e-05, 8.49375673e-04, 4.99295253e-05,\n",
       "        8.70052116e-04, 2.72036955e-04, 8.09796734e-04, 8.81022462e-04,\n",
       "        1.72427064e-04, 5.94085627e-04, 3.78163457e-04, 5.25136030e-04,\n",
       "        9.28463184e-04, 7.89389576e-04, 9.18996602e-04, 3.81933846e-04,\n",
       "        7.66376292e-04, 7.53006824e-04, 1.22056752e-04, 2.71731220e-04,\n",
       "        9.44986720e-04, 1.93741367e-04, 7.88187585e-04, 3.90895898e-04,\n",
       "        8.14562549e-04, 7.73624484e-04, 9.44985714e-04, 5.87889292e-05,\n",
       "        7.81574471e-04, 8.15660971e-04, 1.67047188e-04, 4.52295939e-04,\n",
       "        1.84382968e-04, 4.89568357e-04, 7.57192285e-04, 5.69261106e-04,\n",
       "        9.16967223e-04, 9.76699489e-04, 7.07694964e-04, 5.94120255e-04,\n",
       "        5.89291296e-04, 2.40084133e-04, 6.69078633e-04, 5.30795942e-04,\n",
       "        8.61868762e-04, 8.10515002e-04, 6.08229497e-04, 4.44088511e-04,\n",
       "        5.78563749e-04],\n",
       "       [9.54663158e-05, 2.84935305e-04, 5.48458061e-04, 1.17836488e-04,\n",
       "        7.96514754e-04, 4.18197337e-04, 3.69283363e-04, 5.44875156e-04,\n",
       "        6.23317827e-04, 5.60255999e-04, 3.66291113e-04, 8.88804045e-04,\n",
       "        9.62881325e-04, 5.79420174e-04, 7.38986242e-04, 5.24850673e-04,\n",
       "        5.61725403e-04, 5.26142900e-04, 3.46470004e-04, 1.37354567e-04,\n",
       "        9.21091637e-04, 5.08923018e-04, 6.70111901e-04, 5.00270465e-04,\n",
       "        3.10850827e-04, 3.14515329e-04, 9.03036547e-04, 2.19124884e-04,\n",
       "        8.27287218e-04, 6.07406106e-04, 7.32247342e-04, 7.43039343e-04,\n",
       "        2.50963431e-04, 2.98106053e-04, 7.73156921e-04, 7.16620639e-04,\n",
       "        9.03026885e-04, 3.37538062e-04, 9.15889140e-04, 8.34228911e-06,\n",
       "        9.19021208e-04, 1.54266325e-04, 6.25433878e-04, 9.52057644e-04,\n",
       "        5.02157217e-04, 4.39811423e-04, 5.75639232e-04, 9.89745341e-05,\n",
       "        6.08822757e-04, 7.44018365e-04, 7.52631859e-04, 7.63791284e-04,\n",
       "        4.45162544e-04, 5.00661832e-04, 5.59073267e-04, 8.26561073e-04,\n",
       "        4.13742958e-04, 2.42590713e-04, 6.55092829e-04, 3.49340297e-04,\n",
       "        2.26904620e-04, 4.23036342e-04, 4.47750834e-04, 3.57477668e-04,\n",
       "        1.47588468e-04, 1.77139793e-04, 8.62564992e-04, 9.10741623e-04,\n",
       "        4.06630485e-04, 4.47575609e-04, 1.28242143e-04, 3.68050135e-05,\n",
       "        3.02000989e-04, 4.42308026e-04, 9.73586358e-04, 5.42484267e-04,\n",
       "        5.60212661e-04, 5.39618915e-04, 9.82529506e-04, 8.23116453e-04,\n",
       "        1.64675857e-04],\n",
       "       [3.18376347e-04, 9.05475054e-04, 9.14385860e-04, 6.99569141e-04,\n",
       "        4.98426694e-04, 3.54571937e-04, 6.60583866e-04, 5.10560919e-04,\n",
       "        8.69441261e-04, 1.11937802e-04, 4.03931944e-04, 2.66014851e-04,\n",
       "        3.92564530e-04, 5.57943455e-06, 8.77161812e-04, 2.74528227e-04,\n",
       "        9.21546481e-04, 4.96567201e-04, 7.64017984e-04, 3.04910898e-04,\n",
       "        9.70809798e-05, 6.94063209e-04, 2.45920671e-04, 6.20254861e-04,\n",
       "        7.21313141e-04, 6.54716101e-04, 9.53613194e-04, 7.53936858e-04,\n",
       "        5.36557703e-05, 5.65142765e-04, 9.20783593e-05, 7.19097829e-04,\n",
       "        8.85576375e-04, 7.04541583e-04, 6.57566363e-04, 2.09800825e-04,\n",
       "        5.20045801e-04, 1.90825446e-04, 6.89101896e-04, 1.81060634e-04,\n",
       "        7.40501120e-04, 3.83404803e-04, 6.82808956e-04, 2.57275406e-04,\n",
       "        4.57686060e-04, 1.46988462e-04, 6.87296385e-04, 4.97048249e-04,\n",
       "        3.50816106e-05, 7.99773115e-05, 4.55985491e-04, 5.58261432e-04,\n",
       "        4.83846056e-04, 5.32652186e-04, 6.34422877e-04, 6.90404165e-06,\n",
       "        1.72124029e-04, 4.24172100e-05, 2.23660080e-04, 7.62927794e-04,\n",
       "        8.72824723e-04, 6.10493713e-04, 7.78626933e-04, 7.51515854e-04,\n",
       "        2.88473687e-04, 4.74485073e-04, 2.99034947e-04, 2.73548631e-04,\n",
       "        5.18294362e-04, 5.62370686e-06, 5.77278705e-04, 8.50895862e-04,\n",
       "        4.86787207e-04, 1.29169851e-04, 9.51284144e-04, 9.59605158e-04,\n",
       "        2.81140591e-04, 6.18230954e-04, 4.67161974e-04, 3.88644983e-04,\n",
       "        3.22345424e-04]])"
      ]
     },
     "execution_count": 8,
     "metadata": {},
     "output_type": "execute_result"
    }
   ],
   "source": [
    "# theta2\n",
    "theta2 = np.random.rand(10, 81)\n",
    "theta2 = theta2 / 1000\n",
    "theta2"
   ]
  },
  {
   "cell_type": "markdown",
   "metadata": {},
   "source": [
    "#### Se realizó la división de 1000 de los valores de theta ya que al relizar las iteraciones de optimización se quedaba en la iteración 15"
   ]
  },
  {
   "cell_type": "code",
   "execution_count": 9,
   "metadata": {},
   "outputs": [],
   "source": [
    "flatten_list_of_arrays = lambda list_of_arrays: reduce(\n",
    "    lambda acc, v: np.array([*acc.flatten(), *v.flatten()]),\n",
    "    list_of_arrays\n",
    ")"
   ]
  },
  {
   "cell_type": "code",
   "execution_count": 10,
   "metadata": {},
   "outputs": [],
   "source": [
    "def cost_function(flat_thetas, shapes, X, Y):\n",
    "    a = feed_forward(\n",
    "        inflate_matrixes(flat_thetas, shapes),\n",
    "        X\n",
    "    )\n",
    "    \n",
    "    return -(Y * np.log(a[-1]) + (1 - Y) * np.log(1 - a[-1])).sum() / len(X)"
   ]
  },
  {
   "cell_type": "markdown",
   "metadata": {},
   "source": [
    "La sigmoide es la función de activación de \"z\" hacia \"a\""
   ]
  },
  {
   "cell_type": "code",
   "execution_count": 11,
   "metadata": {},
   "outputs": [],
   "source": [
    "def sigmoind(A):\n",
    "    for cell in np.nditer(A, op_flags=['readwrite']):\n",
    "        cell[...] = 1.0 / (1.0 + 2.718281828459045**(-1.0 * cell))\n",
    "    return A"
   ]
  },
  {
   "cell_type": "markdown",
   "metadata": {},
   "source": [
    "#### Feed forward, incluye la agregacion de la columna de unos en X y las dos transformaciones de a. Es el calculo hacia adelante de las \"z\" y \"a\" de 1 a la L\n"
   ]
  },
  {
   "cell_type": "code",
   "execution_count": 12,
   "metadata": {},
   "outputs": [],
   "source": [
    "def feed_forward(thetas, X):\n",
    "    a = [X]\n",
    "    for i in range(len(thetas)):\n",
    "        a.append(\n",
    "            sigmoind(\n",
    "                np.matmul(\n",
    "                    np.hstack((\n",
    "                        np.ones(len(X)).reshape(len(X), 1),\n",
    "                        a[i]\n",
    "                    )),\n",
    "                    thetas[i].T\n",
    "                )\n",
    "            )\n",
    "        )\n",
    "    return a\n"
   ]
  },
  {
   "cell_type": "markdown",
   "metadata": {},
   "source": [
    "Calculamos delta super L. \n",
    "\n",
    "Ahora vamos a calcuar delta L para las capas (sin incluir la capa de entrada y final)."
   ]
  },
  {
   "cell_type": "code",
   "execution_count": 13,
   "metadata": {},
   "outputs": [],
   "source": [
    "def inflate_matrixes(flat_thetas, shapes):\n",
    "    layers = len(shapes) + 1\n",
    "    sizes = [shape[0] * shape[1] for shape in shapes]\n",
    "    steps = np.zeros(layers, dtype=int)\n",
    "\n",
    "     \n",
    "    for i in range(layers - 1):\n",
    "        steps[i + 1] = steps[i] + sizes[i]\n",
    "\n",
    "    return [\n",
    "        flat_thetas[steps[i]: steps[i + 1]].reshape(*shapes[i])\n",
    "        for i in range(layers - 1)\n",
    "    ]"
   ]
  },
  {
   "cell_type": "code",
   "execution_count": 14,
   "metadata": {},
   "outputs": [],
   "source": [
    "def back_propagation(flat_thetas, shapes, X, Y):\n",
    "    m, layers = len(X), len(shapes) + 1\n",
    "    thetas = inflate_matrixes(flat_thetas, shapes)\n",
    "    a = feed_forward(thetas, X)\n",
    "    deltas = [*range(layers - 1), a[-1] - Y]\n",
    "\n",
    "    # 2.4\n",
    "    # se mueve desde L-1 porque no se debe tomar la ultima capa\n",
    "    # tampoco se toma en cuenta la primera capa porque es la capa de entrada\n",
    "    # no se toma la capa 1 ni 3, solo la 2\n",
    "    for i in range(layers - 2, 0, -1):\n",
    "        # NO TOMAR EN CUENTA LA PRIMERA COLUMNA de la matriz thetas[i] por bias.\n",
    "        bias = np.delete(thetas[i], 0, 1)\n",
    "        # se multiplica el producto de theta de la capa i por el error de la siguiente capa y el proucto de la salida de la capa i (a[i])  por 1 - a[i]\n",
    "        deltas[i] = deltas[i + 1] @ bias * ( a[i] * ( 1-a[i]) )\n",
    "    \n",
    "    # se entrega una lista de los vectores columnas\n",
    "    matrices_de_error = []\n",
    "\n",
    "    # se está en 2.5\n",
    "    # se mueve de 0 a L - 1\n",
    "    for i in range(layers - 1):\n",
    "        a[i] = np.hstack((np.ones(len(a[i])).reshape(len(a[i]), 1), a[i]))\n",
    "        matrices_de_error.append(\n",
    "            (deltas[i + 1].T @ a[i])/m\n",
    "        )\n",
    "    \n",
    "    # regresa los theta aplastados para utilizarse en la optimizacion, esta concatenada de forma plana\n",
    "    return flatten_list_of_arrays(np.asarray(matrices_de_error))"
   ]
  },
  {
   "cell_type": "markdown",
   "metadata": {},
   "source": [
    "#### Agregar el theta1 (80,785) y theta2 (10,81) a una lista, esta se aplanará y se utilizará en el descenso de gradiente"
   ]
  },
  {
   "cell_type": "code",
   "execution_count": 15,
   "metadata": {},
   "outputs": [
    {
     "data": {
      "text/plain": [
       "array([0.00070671, 0.00077489, 0.00077942, ..., 0.00046716, 0.00038864,\n",
       "       0.00032235])"
      ]
     },
     "execution_count": 15,
     "metadata": {},
     "output_type": "execute_result"
    }
   ],
   "source": [
    "arreglo_c = []\n",
    "arreglo_c.append(theta1)\n",
    "arreglo_c.append(theta2)\n",
    "\n",
    "# flat_theta\n",
    "flat_theta = flatten_list_of_arrays(arreglo_c)\n",
    "flat_theta"
   ]
  },
  {
   "cell_type": "code",
   "execution_count": 16,
   "metadata": {},
   "outputs": [],
   "source": [
    "# separar en shapes\n",
    "NETWORK_ARCHITECTURE = np.array([\n",
    "    n,\n",
    "    80,\n",
    "    10\n",
    "])\n",
    "\n",
    "theta_shapes = np.hstack((\n",
    "    NETWORK_ARCHITECTURE[1:].reshape(len(NETWORK_ARCHITECTURE) - 1, 1),\n",
    "    (NETWORK_ARCHITECTURE[:-1] + 1).reshape(len(NETWORK_ARCHITECTURE) - 1, 1)\n",
    "))"
   ]
  },
  {
   "cell_type": "code",
   "execution_count": 17,
   "metadata": {},
   "outputs": [
    {
     "data": {
      "text/plain": [
       "'print(\"OPTIMIZING...\")\\nresult = op.minimize(\\n    fun = cost_function,\\n    x0 = flat_theta,\\n    args = (theta_shapes, X, Y),\\n    method = \\'L-BFGS-B\\',\\n    jac = back_propagation,\\n    options = {\\'disp\\': True, \\'maxiter\\': 100}\\n)\\nprint(\"OPTIMIZED\")\\nprint(result.x)'"
      ]
     },
     "execution_count": 17,
     "metadata": {},
     "output_type": "execute_result"
    }
   ],
   "source": [
    "\"\"\"print(\"OPTIMIZING...\")\n",
    "result = op.minimize(\n",
    "    fun = cost_function,\n",
    "    x0 = flat_theta,\n",
    "    args = (theta_shapes, X, Y),\n",
    "    method = 'L-BFGS-B',\n",
    "    jac = back_propagation,\n",
    "    options = {'disp': True, 'maxiter': 100}\n",
    ")\n",
    "print(\"OPTIMIZED\")\n",
    "print(result.x)\"\"\""
   ]
  },
  {
   "cell_type": "code",
   "execution_count": 18,
   "metadata": {},
   "outputs": [
    {
     "data": {
      "text/plain": [
       "'outfile = open(\"thetaOptimizado.txt\", \"wb\")\\npickle.dump(result.x, outfile)\\noutfile.close()'"
      ]
     },
     "execution_count": 18,
     "metadata": {},
     "output_type": "execute_result"
    }
   ],
   "source": [
    "\"\"\"outfile = open(\"thetaOptimizado.txt\", \"wb\")\n",
    "pickle.dump(result.x, outfile)\n",
    "outfile.close()\"\"\""
   ]
  },
  {
   "cell_type": "markdown",
   "metadata": {},
   "source": [
    "Se realizó el método de optimización con 3000 iteraciones y se guardó en un archivo .txt, adjunto se encuentra un screenshot de cuando se terminó la optimización"
   ]
  },
  {
   "cell_type": "markdown",
   "metadata": {},
   "source": [
    "<img src=\"screenshot.jpg\"/>"
   ]
  },
  {
   "cell_type": "code",
   "execution_count": 19,
   "metadata": {},
   "outputs": [],
   "source": [
    "def cost_functionO(flat_thetas, shapes, X, Y):\n",
    "    a = feed_forward(\n",
    "        inflate_matrixes(flat_thetas, shapes),\n",
    "        X\n",
    "    )\n",
    "    \n",
    "    # regresa la capa que tiene 3 neuronas\n",
    "    return a[-1]"
   ]
  },
  {
   "cell_type": "markdown",
   "metadata": {},
   "source": [
    "se desencripta el archivo .txt y se aplana"
   ]
  },
  {
   "cell_type": "code",
   "execution_count": 21,
   "metadata": {},
   "outputs": [
    {
     "name": "stderr",
     "output_type": "stream",
     "text": [
      "f:\\python364bits\\lib\\site-packages\\ipykernel_launcher.py:3: RuntimeWarning: overflow encountered in double_scalars\n",
      "  This is separate from the ipykernel package so we can avoid doing imports until\n"
     ]
    }
   ],
   "source": [
    "with open(\"thetaOptimizado1.txt\", \"rb\") as openfile:\n",
    "    while True:\n",
    "        try:\n",
    "            tOptimizado = pickle.load(openfile)\n",
    "        except EOFError:\n",
    "            break\n",
    "\n",
    "flat_theta_optimizado = flatten_list_of_arrays(tOptimizado)\n",
    "\n",
    "costoO = cost_functionO(flat_theta_optimizado, theta_shapes, X, Y)"
   ]
  },
  {
   "cell_type": "markdown",
   "metadata": {},
   "source": [
    "Se crea un contador y se va a hacer una interación de cada linea del array por medio del ciclo for\n",
    "Es importante mencionar que se utiliza np.asarray para facilitar la búsqueda en columnas.\n",
    "\n",
    "Para cada linea, se busca cual columna tiene el mayor argumento y se extrae el índice de la columna.\n",
    "se compara el indice de la columna con la posición en Y[k] (que posee los valores esperados) y si ambos concuerdan, se aumenta el contador"
   ]
  },
  {
   "cell_type": "code",
   "execution_count": 22,
   "metadata": {},
   "outputs": [
    {
     "name": "stdout",
     "output_type": "stream",
     "text": [
      "Porcentaje:  83.48666666666666\n"
     ]
    }
   ],
   "source": [
    "contador_correctos = 0\n",
    "\n",
    "for k in range(0,60000):\n",
    "    max_index_col = np.argmax(np.asarray(costoO[k]), axis=0)\n",
    "    #print(max_index_col)\n",
    "    if np.argmax(np.asarray(Y[k]), axis=0) == max_index_col:\n",
    "        #print(\"correcto :D\")\n",
    "        contador_correctos = contador_correctos + 1\n",
    "\n",
    "print(\"Porcentaje: \", (contador_correctos * 100) / 60000)\n"
   ]
  },
  {
   "cell_type": "markdown",
   "metadata": {},
   "source": [
    "# Porcentaje"
   ]
  },
  {
   "cell_type": "code",
   "execution_count": 23,
   "metadata": {},
   "outputs": [
    {
     "data": {
      "text/plain": [
       "83.48666666666666"
      ]
     },
     "execution_count": 23,
     "metadata": {},
     "output_type": "execute_result"
    }
   ],
   "source": [
    "(contador_correctos * 100) / 60000"
   ]
  },
  {
   "cell_type": "code",
   "execution_count": null,
   "metadata": {},
   "outputs": [],
   "source": []
  }
 ],
 "metadata": {
  "kernelspec": {
   "display_name": "Python 3",
   "language": "python",
   "name": "python3"
  },
  "language_info": {
   "codemirror_mode": {
    "name": "ipython",
    "version": 3
   },
   "file_extension": ".py",
   "mimetype": "text/x-python",
   "name": "python",
   "nbconvert_exporter": "python",
   "pygments_lexer": "ipython3",
   "version": "3.7.7"
  }
 },
 "nbformat": 4,
 "nbformat_minor": 2
}
